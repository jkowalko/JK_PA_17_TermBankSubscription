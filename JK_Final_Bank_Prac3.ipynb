{
 "cells": [
  {
   "cell_type": "markdown",
   "metadata": {
    "id": "VUtpuZQ8YZU0"
   },
   "source": [
    "# Practical Application III: Comparing Classifiers\n",
    "\n",
    "**Overview**: In this practical application, your goal is to compare the performance of the classifiers we encountered in this section, namely K Nearest Neighbor, Logistic Regression, Decision Trees, and Support Vector Machines.  We will utilize a dataset related to marketing bank products over the telephone.  \n",
    "\n"
   ]
  },
  {
   "cell_type": "markdown",
   "metadata": {
    "id": "r53jhMC-YZU1"
   },
   "source": [
    "### Getting Started\n",
    "\n",
    "Our dataset comes from the UCI Machine Learning repository [link](https://archive.ics.uci.edu/ml/datasets/bank+marketing).  The data is from a Portugese banking institution and is a collection of the results of multiple marketing campaigns.  We will make use of the article accompanying the dataset [here](CRISP-DM-BANK.pdf) for more information on the data and features.\n",
    "\n"
   ]
  },
  {
   "cell_type": "markdown",
   "metadata": {
    "id": "uprYznAlYZU1"
   },
   "source": [
    "### Problem 1: Understanding the Data\n",
    "\n",
    "To gain a better understanding of the data, please read the information provided in the UCI link above, and examine the **Materials and Methods** section of the paper.  How many marketing campaigns does this data represent?"
   ]
  },
  {
   "cell_type": "markdown",
   "metadata": {
    "id": "Z1efw5iGZO2Z"
   },
   "source": [
    "The data has 17 marketing campaigns, based on the materials posted in the https://archive.ics.uci.edu/dataset/222/bank+marketing. There is documentation named CRISP-DM-BANK.pdf that can be found in the link and referenced to support the number of campaigns on page 2 that happened between May 2008 and November 2010 with a total of 79354 contacts. During these phone campaigns, an attractive long-term deposit\n",
    "application, with good interest rates, was offered. For each\n",
    "contact, a large number of attributes was stored and if there was a success.\n",
    "For the whole database considered, there were 6499\n",
    "successes with an 8% success rate."
   ]
  },
  {
   "cell_type": "markdown",
   "metadata": {
    "id": "08rjF50CYZU1"
   },
   "source": [
    "### Problem 2: Read in the Data\n",
    "\n",
    "Use pandas to read in the dataset `bank-additional-full.csv` and assign to a meaningful variable name."
   ]
  },
  {
   "cell_type": "code",
   "execution_count": 82,
   "metadata": {
    "executionInfo": {
     "elapsed": 41,
     "status": "ok",
     "timestamp": 1756577355606,
     "user": {
      "displayName": "Johnny K",
      "userId": "00387309148732099634"
     },
     "user_tz": 300
    },
    "id": "neZQkg9sYZU1"
   },
   "outputs": [],
   "source": [
    "import pandas as pd\n",
    "import matplotlib.pyplot as plt\n",
    "import seaborn as sns\n",
    "from sklearn.preprocessing import StandardScaler\n",
    "from sklearn.model_selection import train_test_split\n",
    "from sklearn.dummy import DummyClassifier\n",
    "from sklearn.metrics import confusion_matrix\n",
    "from sklearn.linear_model import LogisticRegression\n",
    "from sklearn.metrics import accuracy_score, confusion_matrix\n",
    "from sklearn.model_selection import GridSearchCV\n",
    "import numpy as np\n",
    "from sklearn.neighbors import KNeighborsClassifier\n",
    "from sklearn.tree import DecisionTreeClassifier\n",
    "from sklearn.svm import SVC\n",
    "import time\n",
    "from sklearn.metrics import classification_report, confusion_matrix"
   ]
  },
  {
   "cell_type": "code",
   "execution_count": 2,
   "metadata": {
    "executionInfo": {
     "elapsed": 294,
     "status": "ok",
     "timestamp": 1756566349668,
     "user": {
      "displayName": "Johnny K",
      "userId": "00387309148732099634"
     },
     "user_tz": 300
    },
    "id": "4EIoVDblYZU2"
   },
   "outputs": [],
   "source": [
    "df = pd.read_csv('data/bank-additional/bank-additional-full.csv', sep = ';')"
   ]
  },
  {
   "cell_type": "code",
   "execution_count": 3,
   "metadata": {
    "colab": {
     "base_uri": "https://localhost:8080/",
     "height": 256
    },
    "executionInfo": {
     "elapsed": 65,
     "status": "ok",
     "timestamp": 1756566350894,
     "user": {
      "displayName": "Johnny K",
      "userId": "00387309148732099634"
     },
     "user_tz": 300
    },
    "id": "orAbil0OYZU2",
    "outputId": "9d557e0a-f59d-4944-af82-0e5d216c1462"
   },
   "outputs": [
    {
     "data": {
      "application/vnd.google.colaboratory.intrinsic+json": {
       "type": "dataframe",
       "variable_name": "df"
      },
      "text/html": [
       "\n",
       "  <div id=\"df-dd694435-0aad-4c7d-b579-908c123cf5ab\" class=\"colab-df-container\">\n",
       "    <div>\n",
       "<style scoped>\n",
       "    .dataframe tbody tr th:only-of-type {\n",
       "        vertical-align: middle;\n",
       "    }\n",
       "\n",
       "    .dataframe tbody tr th {\n",
       "        vertical-align: top;\n",
       "    }\n",
       "\n",
       "    .dataframe thead th {\n",
       "        text-align: right;\n",
       "    }\n",
       "</style>\n",
       "<table border=\"1\" class=\"dataframe\">\n",
       "  <thead>\n",
       "    <tr style=\"text-align: right;\">\n",
       "      <th></th>\n",
       "      <th>age</th>\n",
       "      <th>job</th>\n",
       "      <th>marital</th>\n",
       "      <th>education</th>\n",
       "      <th>default</th>\n",
       "      <th>housing</th>\n",
       "      <th>loan</th>\n",
       "      <th>contact</th>\n",
       "      <th>month</th>\n",
       "      <th>day_of_week</th>\n",
       "      <th>...</th>\n",
       "      <th>campaign</th>\n",
       "      <th>pdays</th>\n",
       "      <th>previous</th>\n",
       "      <th>poutcome</th>\n",
       "      <th>emp.var.rate</th>\n",
       "      <th>cons.price.idx</th>\n",
       "      <th>cons.conf.idx</th>\n",
       "      <th>euribor3m</th>\n",
       "      <th>nr.employed</th>\n",
       "      <th>y</th>\n",
       "    </tr>\n",
       "  </thead>\n",
       "  <tbody>\n",
       "    <tr>\n",
       "      <th>0</th>\n",
       "      <td>56</td>\n",
       "      <td>housemaid</td>\n",
       "      <td>married</td>\n",
       "      <td>basic.4y</td>\n",
       "      <td>no</td>\n",
       "      <td>no</td>\n",
       "      <td>no</td>\n",
       "      <td>telephone</td>\n",
       "      <td>may</td>\n",
       "      <td>mon</td>\n",
       "      <td>...</td>\n",
       "      <td>1</td>\n",
       "      <td>999</td>\n",
       "      <td>0</td>\n",
       "      <td>nonexistent</td>\n",
       "      <td>1.1</td>\n",
       "      <td>93.994</td>\n",
       "      <td>-36.4</td>\n",
       "      <td>4.857</td>\n",
       "      <td>5191.0</td>\n",
       "      <td>no</td>\n",
       "    </tr>\n",
       "    <tr>\n",
       "      <th>1</th>\n",
       "      <td>57</td>\n",
       "      <td>services</td>\n",
       "      <td>married</td>\n",
       "      <td>high.school</td>\n",
       "      <td>unknown</td>\n",
       "      <td>no</td>\n",
       "      <td>no</td>\n",
       "      <td>telephone</td>\n",
       "      <td>may</td>\n",
       "      <td>mon</td>\n",
       "      <td>...</td>\n",
       "      <td>1</td>\n",
       "      <td>999</td>\n",
       "      <td>0</td>\n",
       "      <td>nonexistent</td>\n",
       "      <td>1.1</td>\n",
       "      <td>93.994</td>\n",
       "      <td>-36.4</td>\n",
       "      <td>4.857</td>\n",
       "      <td>5191.0</td>\n",
       "      <td>no</td>\n",
       "    </tr>\n",
       "    <tr>\n",
       "      <th>2</th>\n",
       "      <td>37</td>\n",
       "      <td>services</td>\n",
       "      <td>married</td>\n",
       "      <td>high.school</td>\n",
       "      <td>no</td>\n",
       "      <td>yes</td>\n",
       "      <td>no</td>\n",
       "      <td>telephone</td>\n",
       "      <td>may</td>\n",
       "      <td>mon</td>\n",
       "      <td>...</td>\n",
       "      <td>1</td>\n",
       "      <td>999</td>\n",
       "      <td>0</td>\n",
       "      <td>nonexistent</td>\n",
       "      <td>1.1</td>\n",
       "      <td>93.994</td>\n",
       "      <td>-36.4</td>\n",
       "      <td>4.857</td>\n",
       "      <td>5191.0</td>\n",
       "      <td>no</td>\n",
       "    </tr>\n",
       "    <tr>\n",
       "      <th>3</th>\n",
       "      <td>40</td>\n",
       "      <td>admin.</td>\n",
       "      <td>married</td>\n",
       "      <td>basic.6y</td>\n",
       "      <td>no</td>\n",
       "      <td>no</td>\n",
       "      <td>no</td>\n",
       "      <td>telephone</td>\n",
       "      <td>may</td>\n",
       "      <td>mon</td>\n",
       "      <td>...</td>\n",
       "      <td>1</td>\n",
       "      <td>999</td>\n",
       "      <td>0</td>\n",
       "      <td>nonexistent</td>\n",
       "      <td>1.1</td>\n",
       "      <td>93.994</td>\n",
       "      <td>-36.4</td>\n",
       "      <td>4.857</td>\n",
       "      <td>5191.0</td>\n",
       "      <td>no</td>\n",
       "    </tr>\n",
       "    <tr>\n",
       "      <th>4</th>\n",
       "      <td>56</td>\n",
       "      <td>services</td>\n",
       "      <td>married</td>\n",
       "      <td>high.school</td>\n",
       "      <td>no</td>\n",
       "      <td>no</td>\n",
       "      <td>yes</td>\n",
       "      <td>telephone</td>\n",
       "      <td>may</td>\n",
       "      <td>mon</td>\n",
       "      <td>...</td>\n",
       "      <td>1</td>\n",
       "      <td>999</td>\n",
       "      <td>0</td>\n",
       "      <td>nonexistent</td>\n",
       "      <td>1.1</td>\n",
       "      <td>93.994</td>\n",
       "      <td>-36.4</td>\n",
       "      <td>4.857</td>\n",
       "      <td>5191.0</td>\n",
       "      <td>no</td>\n",
       "    </tr>\n",
       "  </tbody>\n",
       "</table>\n",
       "<p>5 rows × 21 columns</p>\n",
       "</div>\n",
       "    <div class=\"colab-df-buttons\">\n",
       "\n",
       "  <div class=\"colab-df-container\">\n",
       "    <button class=\"colab-df-convert\" onclick=\"convertToInteractive('df-dd694435-0aad-4c7d-b579-908c123cf5ab')\"\n",
       "            title=\"Convert this dataframe to an interactive table.\"\n",
       "            style=\"display:none;\">\n",
       "\n",
       "  <svg xmlns=\"http://www.w3.org/2000/svg\" height=\"24px\" viewBox=\"0 -960 960 960\">\n",
       "    <path d=\"M120-120v-720h720v720H120Zm60-500h600v-160H180v160Zm220 220h160v-160H400v160Zm0 220h160v-160H400v160ZM180-400h160v-160H180v160Zm440 0h160v-160H620v160ZM180-180h160v-160H180v160Zm440 0h160v-160H620v160Z\"/>\n",
       "  </svg>\n",
       "    </button>\n",
       "\n",
       "  <style>\n",
       "    .colab-df-container {\n",
       "      display:flex;\n",
       "      gap: 12px;\n",
       "    }\n",
       "\n",
       "    .colab-df-convert {\n",
       "      background-color: #E8F0FE;\n",
       "      border: none;\n",
       "      border-radius: 50%;\n",
       "      cursor: pointer;\n",
       "      display: none;\n",
       "      fill: #1967D2;\n",
       "      height: 32px;\n",
       "      padding: 0 0 0 0;\n",
       "      width: 32px;\n",
       "    }\n",
       "\n",
       "    .colab-df-convert:hover {\n",
       "      background-color: #E2EBFA;\n",
       "      box-shadow: 0px 1px 2px rgba(60, 64, 67, 0.3), 0px 1px 3px 1px rgba(60, 64, 67, 0.15);\n",
       "      fill: #174EA6;\n",
       "    }\n",
       "\n",
       "    .colab-df-buttons div {\n",
       "      margin-bottom: 4px;\n",
       "    }\n",
       "\n",
       "    [theme=dark] .colab-df-convert {\n",
       "      background-color: #3B4455;\n",
       "      fill: #D2E3FC;\n",
       "    }\n",
       "\n",
       "    [theme=dark] .colab-df-convert:hover {\n",
       "      background-color: #434B5C;\n",
       "      box-shadow: 0px 1px 3px 1px rgba(0, 0, 0, 0.15);\n",
       "      filter: drop-shadow(0px 1px 2px rgba(0, 0, 0, 0.3));\n",
       "      fill: #FFFFFF;\n",
       "    }\n",
       "  </style>\n",
       "\n",
       "    <script>\n",
       "      const buttonEl =\n",
       "        document.querySelector('#df-dd694435-0aad-4c7d-b579-908c123cf5ab button.colab-df-convert');\n",
       "      buttonEl.style.display =\n",
       "        google.colab.kernel.accessAllowed ? 'block' : 'none';\n",
       "\n",
       "      async function convertToInteractive(key) {\n",
       "        const element = document.querySelector('#df-dd694435-0aad-4c7d-b579-908c123cf5ab');\n",
       "        const dataTable =\n",
       "          await google.colab.kernel.invokeFunction('convertToInteractive',\n",
       "                                                    [key], {});\n",
       "        if (!dataTable) return;\n",
       "\n",
       "        const docLinkHtml = 'Like what you see? Visit the ' +\n",
       "          '<a target=\"_blank\" href=https://colab.research.google.com/notebooks/data_table.ipynb>data table notebook</a>'\n",
       "          + ' to learn more about interactive tables.';\n",
       "        element.innerHTML = '';\n",
       "        dataTable['output_type'] = 'display_data';\n",
       "        await google.colab.output.renderOutput(dataTable, element);\n",
       "        const docLink = document.createElement('div');\n",
       "        docLink.innerHTML = docLinkHtml;\n",
       "        element.appendChild(docLink);\n",
       "      }\n",
       "    </script>\n",
       "  </div>\n",
       "\n",
       "\n",
       "    <div id=\"df-5416c71c-a4f3-4638-87e1-24d04b11c195\">\n",
       "      <button class=\"colab-df-quickchart\" onclick=\"quickchart('df-5416c71c-a4f3-4638-87e1-24d04b11c195')\"\n",
       "                title=\"Suggest charts\"\n",
       "                style=\"display:none;\">\n",
       "\n",
       "<svg xmlns=\"http://www.w3.org/2000/svg\" height=\"24px\"viewBox=\"0 0 24 24\"\n",
       "     width=\"24px\">\n",
       "    <g>\n",
       "        <path d=\"M19 3H5c-1.1 0-2 .9-2 2v14c0 1.1.9 2 2 2h14c1.1 0 2-.9 2-2V5c0-1.1-.9-2-2-2zM9 17H7v-7h2v7zm4 0h-2V7h2v10zm4 0h-2v-4h2v4z\"/>\n",
       "    </g>\n",
       "</svg>\n",
       "      </button>\n",
       "\n",
       "<style>\n",
       "  .colab-df-quickchart {\n",
       "      --bg-color: #E8F0FE;\n",
       "      --fill-color: #1967D2;\n",
       "      --hover-bg-color: #E2EBFA;\n",
       "      --hover-fill-color: #174EA6;\n",
       "      --disabled-fill-color: #AAA;\n",
       "      --disabled-bg-color: #DDD;\n",
       "  }\n",
       "\n",
       "  [theme=dark] .colab-df-quickchart {\n",
       "      --bg-color: #3B4455;\n",
       "      --fill-color: #D2E3FC;\n",
       "      --hover-bg-color: #434B5C;\n",
       "      --hover-fill-color: #FFFFFF;\n",
       "      --disabled-bg-color: #3B4455;\n",
       "      --disabled-fill-color: #666;\n",
       "  }\n",
       "\n",
       "  .colab-df-quickchart {\n",
       "    background-color: var(--bg-color);\n",
       "    border: none;\n",
       "    border-radius: 50%;\n",
       "    cursor: pointer;\n",
       "    display: none;\n",
       "    fill: var(--fill-color);\n",
       "    height: 32px;\n",
       "    padding: 0;\n",
       "    width: 32px;\n",
       "  }\n",
       "\n",
       "  .colab-df-quickchart:hover {\n",
       "    background-color: var(--hover-bg-color);\n",
       "    box-shadow: 0 1px 2px rgba(60, 64, 67, 0.3), 0 1px 3px 1px rgba(60, 64, 67, 0.15);\n",
       "    fill: var(--button-hover-fill-color);\n",
       "  }\n",
       "\n",
       "  .colab-df-quickchart-complete:disabled,\n",
       "  .colab-df-quickchart-complete:disabled:hover {\n",
       "    background-color: var(--disabled-bg-color);\n",
       "    fill: var(--disabled-fill-color);\n",
       "    box-shadow: none;\n",
       "  }\n",
       "\n",
       "  .colab-df-spinner {\n",
       "    border: 2px solid var(--fill-color);\n",
       "    border-color: transparent;\n",
       "    border-bottom-color: var(--fill-color);\n",
       "    animation:\n",
       "      spin 1s steps(1) infinite;\n",
       "  }\n",
       "\n",
       "  @keyframes spin {\n",
       "    0% {\n",
       "      border-color: transparent;\n",
       "      border-bottom-color: var(--fill-color);\n",
       "      border-left-color: var(--fill-color);\n",
       "    }\n",
       "    20% {\n",
       "      border-color: transparent;\n",
       "      border-left-color: var(--fill-color);\n",
       "      border-top-color: var(--fill-color);\n",
       "    }\n",
       "    30% {\n",
       "      border-color: transparent;\n",
       "      border-left-color: var(--fill-color);\n",
       "      border-top-color: var(--fill-color);\n",
       "      border-right-color: var(--fill-color);\n",
       "    }\n",
       "    40% {\n",
       "      border-color: transparent;\n",
       "      border-right-color: var(--fill-color);\n",
       "      border-top-color: var(--fill-color);\n",
       "    }\n",
       "    60% {\n",
       "      border-color: transparent;\n",
       "      border-right-color: var(--fill-color);\n",
       "    }\n",
       "    80% {\n",
       "      border-color: transparent;\n",
       "      border-right-color: var(--fill-color);\n",
       "      border-bottom-color: var(--fill-color);\n",
       "    }\n",
       "    90% {\n",
       "      border-color: transparent;\n",
       "      border-bottom-color: var(--fill-color);\n",
       "    }\n",
       "  }\n",
       "</style>\n",
       "\n",
       "      <script>\n",
       "        async function quickchart(key) {\n",
       "          const quickchartButtonEl =\n",
       "            document.querySelector('#' + key + ' button');\n",
       "          quickchartButtonEl.disabled = true;  // To prevent multiple clicks.\n",
       "          quickchartButtonEl.classList.add('colab-df-spinner');\n",
       "          try {\n",
       "            const charts = await google.colab.kernel.invokeFunction(\n",
       "                'suggestCharts', [key], {});\n",
       "          } catch (error) {\n",
       "            console.error('Error during call to suggestCharts:', error);\n",
       "          }\n",
       "          quickchartButtonEl.classList.remove('colab-df-spinner');\n",
       "          quickchartButtonEl.classList.add('colab-df-quickchart-complete');\n",
       "        }\n",
       "        (() => {\n",
       "          let quickchartButtonEl =\n",
       "            document.querySelector('#df-5416c71c-a4f3-4638-87e1-24d04b11c195 button');\n",
       "          quickchartButtonEl.style.display =\n",
       "            google.colab.kernel.accessAllowed ? 'block' : 'none';\n",
       "        })();\n",
       "      </script>\n",
       "    </div>\n",
       "\n",
       "    </div>\n",
       "  </div>\n"
      ],
      "text/plain": [
       "   age        job  marital    education  default housing loan    contact  \\\n",
       "0   56  housemaid  married     basic.4y       no      no   no  telephone   \n",
       "1   57   services  married  high.school  unknown      no   no  telephone   \n",
       "2   37   services  married  high.school       no     yes   no  telephone   \n",
       "3   40     admin.  married     basic.6y       no      no   no  telephone   \n",
       "4   56   services  married  high.school       no      no  yes  telephone   \n",
       "\n",
       "  month day_of_week  ...  campaign  pdays  previous     poutcome emp.var.rate  \\\n",
       "0   may         mon  ...         1    999         0  nonexistent          1.1   \n",
       "1   may         mon  ...         1    999         0  nonexistent          1.1   \n",
       "2   may         mon  ...         1    999         0  nonexistent          1.1   \n",
       "3   may         mon  ...         1    999         0  nonexistent          1.1   \n",
       "4   may         mon  ...         1    999         0  nonexistent          1.1   \n",
       "\n",
       "   cons.price.idx  cons.conf.idx  euribor3m  nr.employed   y  \n",
       "0          93.994          -36.4      4.857       5191.0  no  \n",
       "1          93.994          -36.4      4.857       5191.0  no  \n",
       "2          93.994          -36.4      4.857       5191.0  no  \n",
       "3          93.994          -36.4      4.857       5191.0  no  \n",
       "4          93.994          -36.4      4.857       5191.0  no  \n",
       "\n",
       "[5 rows x 21 columns]"
      ]
     },
     "execution_count": 3,
     "metadata": {},
     "output_type": "execute_result"
    }
   ],
   "source": [
    "df.head()"
   ]
  },
  {
   "cell_type": "markdown",
   "metadata": {
    "id": "2D4pz5k5YZU2"
   },
   "source": [
    "### Problem 3: Understanding the Features\n",
    "\n",
    "\n",
    "Examine the data description below, and determine if any of the features are missing values or need to be coerced to a different data type.\n",
    "\n",
    "\n",
    "```\n",
    "Input variables:\n",
    "# bank client data:\n",
    "1 - age (numeric)\n",
    "2 - job : type of job (categorical: 'admin.','blue-collar','entrepreneur','housemaid','management','retired','self-employed','services','student','technician','unemployed','unknown')\n",
    "3 - marital : marital status (categorical: 'divorced','married','single','unknown'; note: 'divorced' means divorced or widowed)\n",
    "4 - education (categorical: 'basic.4y','basic.6y','basic.9y','high.school','illiterate','professional.course','university.degree','unknown')\n",
    "5 - default: has credit in default? (categorical: 'no','yes','unknown')\n",
    "6 - housing: has housing loan? (categorical: 'no','yes','unknown')\n",
    "7 - loan: has personal loan? (categorical: 'no','yes','unknown')\n",
    "# related with the last contact of the current campaign:\n",
    "8 - contact: contact communication type (categorical: 'cellular','telephone')\n",
    "9 - month: last contact month of year (categorical: 'jan', 'feb', 'mar', ..., 'nov', 'dec')\n",
    "10 - day_of_week: last contact day of the week (categorical: 'mon','tue','wed','thu','fri')\n",
    "11 - duration: last contact duration, in seconds (numeric). Important note: this attribute highly affects the output target (e.g., if duration=0 then y='no'). Yet, the duration is not known before a call is performed. Also, after the end of the call y is obviously known. Thus, this input should only be included for benchmark purposes and should be discarded if the intention is to have a realistic predictive model.\n",
    "# other attributes:\n",
    "12 - campaign: number of contacts performed during this campaign and for this client (numeric, includes last contact)\n",
    "13 - pdays: number of days that passed by after the client was last contacted from a previous campaign (numeric; 999 means client was not previously contacted)\n",
    "14 - previous: number of contacts performed before this campaign and for this client (numeric)\n",
    "15 - poutcome: outcome of the previous marketing campaign (categorical: 'failure','nonexistent','success')\n",
    "# social and economic context attributes\n",
    "16 - emp.var.rate: employment variation rate - quarterly indicator (numeric)\n",
    "17 - cons.price.idx: consumer price index - monthly indicator (numeric)\n",
    "18 - cons.conf.idx: consumer confidence index - monthly indicator (numeric)\n",
    "19 - euribor3m: euribor 3 month rate - daily indicator (numeric)\n",
    "20 - nr.employed: number of employees - quarterly indicator (numeric)\n",
    "\n",
    "Output variable (desired target):\n",
    "21 - y - has the client subscribed a term deposit? (binary: 'yes','no')\n",
    "```\n",
    "\n"
   ]
  },
  {
   "cell_type": "code",
   "execution_count": 4,
   "metadata": {
    "colab": {
     "base_uri": "https://localhost:8080/"
    },
    "executionInfo": {
     "elapsed": 128,
     "status": "ok",
     "timestamp": 1756566355566,
     "user": {
      "displayName": "Johnny K",
      "userId": "00387309148732099634"
     },
     "user_tz": 300
    },
    "id": "X1IAJ_noYZU2",
    "outputId": "551589ee-e7b7-4154-c985-31a74e540c15"
   },
   "outputs": [
    {
     "name": "stdout",
     "output_type": "stream",
     "text": [
      "Dataset Info:\n",
      "<class 'pandas.core.frame.DataFrame'>\n",
      "RangeIndex: 41188 entries, 0 to 41187\n",
      "Data columns (total 21 columns):\n",
      " #   Column          Non-Null Count  Dtype  \n",
      "---  ------          --------------  -----  \n",
      " 0   age             41188 non-null  int64  \n",
      " 1   job             41188 non-null  object \n",
      " 2   marital         41188 non-null  object \n",
      " 3   education       41188 non-null  object \n",
      " 4   default         41188 non-null  object \n",
      " 5   housing         41188 non-null  object \n",
      " 6   loan            41188 non-null  object \n",
      " 7   contact         41188 non-null  object \n",
      " 8   month           41188 non-null  object \n",
      " 9   day_of_week     41188 non-null  object \n",
      " 10  duration        41188 non-null  int64  \n",
      " 11  campaign        41188 non-null  int64  \n",
      " 12  pdays           41188 non-null  int64  \n",
      " 13  previous        41188 non-null  int64  \n",
      " 14  poutcome        41188 non-null  object \n",
      " 15  emp.var.rate    41188 non-null  float64\n",
      " 16  cons.price.idx  41188 non-null  float64\n",
      " 17  cons.conf.idx   41188 non-null  float64\n",
      " 18  euribor3m       41188 non-null  float64\n",
      " 19  nr.employed     41188 non-null  float64\n",
      " 20  y               41188 non-null  object \n",
      "dtypes: float64(5), int64(5), object(11)\n",
      "memory usage: 6.6+ MB\n",
      "\n",
      "Missing Values:\n",
      "age               0\n",
      "job               0\n",
      "marital           0\n",
      "education         0\n",
      "default           0\n",
      "housing           0\n",
      "loan              0\n",
      "contact           0\n",
      "month             0\n",
      "day_of_week       0\n",
      "duration          0\n",
      "campaign          0\n",
      "pdays             0\n",
      "previous          0\n",
      "poutcome          0\n",
      "emp.var.rate      0\n",
      "cons.price.idx    0\n",
      "cons.conf.idx     0\n",
      "euribor3m         0\n",
      "nr.employed       0\n",
      "y                 0\n",
      "dtype: int64\n"
     ]
    }
   ],
   "source": [
    "# Checking for any missing values and data types\n",
    "print(\"Dataset Info:\")\n",
    "df.info()\n",
    "print(\"\\nMissing Values:\")\n",
    "print(df.isnull().sum())"
   ]
  },
  {
   "cell_type": "markdown",
   "metadata": {
    "id": "sLt_tV45dALj"
   },
   "source": [
    "There are no missing values in this dataset. There are numerical features like age, campaign, cons.price.idx and as int64, float64. The categorical features that are object like job, contact, loan wiil need to be encoded.\n",
    "\n",
    "Note - for feature (duration) might be removed from this evaluation for realistic predictions."
   ]
  },
  {
   "cell_type": "code",
   "execution_count": 5,
   "metadata": {
    "colab": {
     "base_uri": "https://localhost:8080/",
     "height": 410
    },
    "executionInfo": {
     "elapsed": 230,
     "status": "ok",
     "timestamp": 1756566358778,
     "user": {
      "displayName": "Johnny K",
      "userId": "00387309148732099634"
     },
     "user_tz": 300
    },
    "id": "U347Hd5gfCTJ",
    "outputId": "5771ab43-c376-45a5-9472-9b6022882056"
   },
   "outputs": [
    {
     "data": {
      "image/png": "[encoded data removed]",
      "text/plain": [
       "<Figure size 600x400 with 1 Axes>"
      ]
     },
     "metadata": {},
     "output_type": "display_data"
    }
   ],
   "source": [
    "# Visualize target variable distribution\n",
    "plt.figure(figsize=(6, 4))\n",
    "sns.countplot(x='y', data=df)\n",
    "plt.title('Distribution of Term Deposit Subscriptions')\n",
    "plt.xlabel('Subscribed (Yes/No)')\n",
    "plt.ylabel('Count')\n",
    "plt.show()"
   ]
  },
  {
   "cell_type": "markdown",
   "metadata": {
    "id": "ALV5w2nIfhaw"
   },
   "source": [
    "Plot shows a huge imbalance in the data, probably due to the duration feature but is most like not going to be used because the longer the call the better the chances of accepting the term subscription and this is to solve for \"what's likely\" the outcome."
   ]
  },
  {
   "cell_type": "markdown",
   "metadata": {
    "id": "BTH9E9r7YZU2"
   },
   "source": [
    "### Problem 4: Understanding the Task\n",
    "\n",
    "After examining the description and data, your goal now is to clearly state the *Business Objective* of the task.  State the objective below."
   ]
  },
  {
   "cell_type": "code",
   "execution_count": 6,
   "metadata": {
    "colab": {
     "base_uri": "https://localhost:8080/"
    },
    "executionInfo": {
     "elapsed": 26,
     "status": "ok",
     "timestamp": 1756566362585,
     "user": {
      "displayName": "Johnny K",
      "userId": "00387309148732099634"
     },
     "user_tz": 300
    },
    "id": "EsM_ks3KYZU2",
    "outputId": "5bd39cb9-1798-4a6c-c67a-5e3b89eede4c"
   },
   "outputs": [
    {
     "name": "stdout",
     "output_type": "stream",
     "text": [
      "<class 'pandas.core.frame.DataFrame'>\n",
      "RangeIndex: 41188 entries, 0 to 41187\n",
      "Data columns (total 21 columns):\n",
      " #   Column          Non-Null Count  Dtype  \n",
      "---  ------          --------------  -----  \n",
      " 0   age             41188 non-null  int64  \n",
      " 1   job             41188 non-null  object \n",
      " 2   marital         41188 non-null  object \n",
      " 3   education       41188 non-null  object \n",
      " 4   default         41188 non-null  object \n",
      " 5   housing         41188 non-null  object \n",
      " 6   loan            41188 non-null  object \n",
      " 7   contact         41188 non-null  object \n",
      " 8   month           41188 non-null  object \n",
      " 9   day_of_week     41188 non-null  object \n",
      " 10  duration        41188 non-null  int64  \n",
      " 11  campaign        41188 non-null  int64  \n",
      " 12  pdays           41188 non-null  int64  \n",
      " 13  previous        41188 non-null  int64  \n",
      " 14  poutcome        41188 non-null  object \n",
      " 15  emp.var.rate    41188 non-null  float64\n",
      " 16  cons.price.idx  41188 non-null  float64\n",
      " 17  cons.conf.idx   41188 non-null  float64\n",
      " 18  euribor3m       41188 non-null  float64\n",
      " 19  nr.employed     41188 non-null  float64\n",
      " 20  y               41188 non-null  object \n",
      "dtypes: float64(5), int64(5), object(11)\n",
      "memory usage: 6.6+ MB\n"
     ]
    }
   ],
   "source": [
    "df.info()"
   ]
  },
  {
   "cell_type": "markdown",
   "metadata": {
    "id": "OE8aRyFpgJ-E"
   },
   "source": [
    "Predict weather a customer is going to subscribe or not to a term deposit and better the chances of a successful marketing campaign."
   ]
  },
  {
   "cell_type": "markdown",
   "metadata": {
    "id": "pDxIu7SMYZU2"
   },
   "source": [
    "### Problem 5: Engineering Features\n",
    "\n",
    "Now that you understand your business objective, we will build a basic model to get started.  Before we can do this, we must work to encode the data.  Using just the bank information features, prepare the features and target column for modeling with appropriate encoding and transformations."
   ]
  },
  {
   "cell_type": "code",
   "execution_count": 7,
   "metadata": {
    "colab": {
     "base_uri": "https://localhost:8080/"
    },
    "executionInfo": {
     "elapsed": 7257,
     "status": "ok",
     "timestamp": 1756566375015,
     "user": {
      "displayName": "Johnny K",
      "userId": "00387309148732099634"
     },
     "user_tz": 300
    },
    "id": "-hrknQ2pYZU2",
    "outputId": "e13d43e7-d44a-4314-fef4-d5bdc8421efe"
   },
   "outputs": [
    {
     "name": "stdout",
     "output_type": "stream",
     "text": [
      "Requirement already satisfied: ydata-profiling in /usr/local/lib/python3.12/dist-packages (4.16.1)\n",
      "Requirement already satisfied: scipy<1.16,>=1.4.1 in /usr/local/lib/python3.12/dist-packages (from ydata-profiling) (1.15.3)\n",
      "Requirement already satisfied: pandas!=1.4.0,<3.0,>1.1 in /usr/local/lib/python3.12/dist-packages (from ydata-profiling) (2.2.2)\n",
      "Requirement already satisfied: matplotlib<=3.10,>=3.5 in /usr/local/lib/python3.12/dist-packages (from ydata-profiling) (3.10.0)\n",
      "Requirement already satisfied: pydantic>=2 in /usr/local/lib/python3.12/dist-packages (from ydata-profiling) (2.11.7)\n",
      "Requirement already satisfied: PyYAML<6.1,>=5.0.0 in /usr/local/lib/python3.12/dist-packages (from ydata-profiling) (6.0.2)\n",
      "Requirement already satisfied: jinja2<3.2,>=2.11.1 in /usr/local/lib/python3.12/dist-packages (from ydata-profiling) (3.1.6)\n",
      "Requirement already satisfied: visions<0.8.2,>=0.7.5 in /usr/local/lib/python3.12/dist-packages (from visions[type_image_path]<0.8.2,>=0.7.5->ydata-profiling) (0.8.1)\n",
      "Requirement already satisfied: numpy<2.2,>=1.16.0 in /usr/local/lib/python3.12/dist-packages (from ydata-profiling) (2.0.2)\n",
      "Requirement already satisfied: htmlmin==0.1.12 in /usr/local/lib/python3.12/dist-packages (from ydata-profiling) (0.1.12)\n",
      "Requirement already satisfied: phik<0.13,>=0.11.1 in /usr/local/lib/python3.12/dist-packages (from ydata-profiling) (0.12.5)\n",
      "Requirement already satisfied: requests<3,>=2.24.0 in /usr/local/lib/python3.12/dist-packages (from ydata-profiling) (2.32.4)\n",
      "Requirement already satisfied: tqdm<5,>=4.48.2 in /usr/local/lib/python3.12/dist-packages (from ydata-profiling) (4.67.1)\n",
      "Requirement already satisfied: seaborn<0.14,>=0.10.1 in /usr/local/lib/python3.12/dist-packages (from ydata-profiling) (0.13.2)\n",
      "Requirement already satisfied: multimethod<2,>=1.4 in /usr/local/lib/python3.12/dist-packages (from ydata-profiling) (1.12)\n",
      "Requirement already satisfied: statsmodels<1,>=0.13.2 in /usr/local/lib/python3.12/dist-packages (from ydata-profiling) (0.14.5)\n",
      "Requirement already satisfied: typeguard<5,>=3 in /usr/local/lib/python3.12/dist-packages (from ydata-profiling) (4.4.4)\n",
      "Requirement already satisfied: imagehash==4.3.1 in /usr/local/lib/python3.12/dist-packages (from ydata-profiling) (4.3.1)\n",
      "Requirement already satisfied: wordcloud>=1.9.3 in /usr/local/lib/python3.12/dist-packages (from ydata-profiling) (1.9.4)\n",
      "Requirement already satisfied: dacite>=1.8 in /usr/local/lib/python3.12/dist-packages (from ydata-profiling) (1.9.2)\n",
      "Requirement already satisfied: numba<=0.61,>=0.56.0 in /usr/local/lib/python3.12/dist-packages (from ydata-profiling) (0.60.0)\n",
      "Requirement already satisfied: PyWavelets in /usr/local/lib/python3.12/dist-packages (from imagehash==4.3.1->ydata-profiling) (1.9.0)\n",
      "Requirement already satisfied: pillow in /usr/local/lib/python3.12/dist-packages (from imagehash==4.3.1->ydata-profiling) (11.3.0)\n",
      "Requirement already satisfied: MarkupSafe>=2.0 in /usr/local/lib/python3.12/dist-packages (from jinja2<3.2,>=2.11.1->ydata-profiling) (3.0.2)\n",
      "Requirement already satisfied: contourpy>=1.0.1 in /usr/local/lib/python3.12/dist-packages (from matplotlib<=3.10,>=3.5->ydata-profiling) (1.3.3)\n",
      "Requirement already satisfied: cycler>=0.10 in /usr/local/lib/python3.12/dist-packages (from matplotlib<=3.10,>=3.5->ydata-profiling) (0.12.1)\n",
      "Requirement already satisfied: fonttools>=4.22.0 in /usr/local/lib/python3.12/dist-packages (from matplotlib<=3.10,>=3.5->ydata-profiling) (4.59.1)\n",
      "Requirement already satisfied: kiwisolver>=1.3.1 in /usr/local/lib/python3.12/dist-packages (from matplotlib<=3.10,>=3.5->ydata-profiling) (1.4.9)\n",
      "Requirement already satisfied: packaging>=20.0 in /usr/local/lib/python3.12/dist-packages (from matplotlib<=3.10,>=3.5->ydata-profiling) (25.0)\n",
      "Requirement already satisfied: pyparsing>=2.3.1 in /usr/local/lib/python3.12/dist-packages (from matplotlib<=3.10,>=3.5->ydata-profiling) (3.2.3)\n",
      "Requirement already satisfied: python-dateutil>=2.7 in /usr/local/lib/python3.12/dist-packages (from matplotlib<=3.10,>=3.5->ydata-profiling) (2.9.0.post0)\n",
      "Requirement already satisfied: llvmlite<0.44,>=0.43.0dev0 in /usr/local/lib/python3.12/dist-packages (from numba<=0.61,>=0.56.0->ydata-profiling) (0.43.0)\n",
      "Requirement already satisfied: pytz>=2020.1 in /usr/local/lib/python3.12/dist-packages (from pandas!=1.4.0,<3.0,>1.1->ydata-profiling) (2025.2)\n",
      "Requirement already satisfied: tzdata>=2022.7 in /usr/local/lib/python3.12/dist-packages (from pandas!=1.4.0,<3.0,>1.1->ydata-profiling) (2025.2)\n",
      "Requirement already satisfied: joblib>=0.14.1 in /usr/local/lib/python3.12/dist-packages (from phik<0.13,>=0.11.1->ydata-profiling) (1.5.1)\n",
      "Requirement already satisfied: annotated-types>=0.6.0 in /usr/local/lib/python3.12/dist-packages (from pydantic>=2->ydata-profiling) (0.7.0)\n",
      "Requirement already satisfied: pydantic-core==2.33.2 in /usr/local/lib/python3.12/dist-packages (from pydantic>=2->ydata-profiling) (2.33.2)\n",
      "Requirement already satisfied: typing-extensions>=4.12.2 in /usr/local/lib/python3.12/dist-packages (from pydantic>=2->ydata-profiling) (4.15.0)\n",
      "Requirement already satisfied: typing-inspection>=0.4.0 in /usr/local/lib/python3.12/dist-packages (from pydantic>=2->ydata-profiling) (0.4.1)\n",
      "Requirement already satisfied: charset_normalizer<4,>=2 in /usr/local/lib/python3.12/dist-packages (from requests<3,>=2.24.0->ydata-profiling) (3.4.3)\n",
      "Requirement already satisfied: idna<4,>=2.5 in /usr/local/lib/python3.12/dist-packages (from requests<3,>=2.24.0->ydata-profiling) (3.10)\n",
      "Requirement already satisfied: urllib3<3,>=1.21.1 in /usr/local/lib/python3.12/dist-packages (from requests<3,>=2.24.0->ydata-profiling) (2.5.0)\n",
      "Requirement already satisfied: certifi>=2017.4.17 in /usr/local/lib/python3.12/dist-packages (from requests<3,>=2.24.0->ydata-profiling) (2025.8.3)\n",
      "Requirement already satisfied: patsy>=0.5.6 in /usr/local/lib/python3.12/dist-packages (from statsmodels<1,>=0.13.2->ydata-profiling) (1.0.1)\n",
      "Requirement already satisfied: attrs>=19.3.0 in /usr/local/lib/python3.12/dist-packages (from visions<0.8.2,>=0.7.5->visions[type_image_path]<0.8.2,>=0.7.5->ydata-profiling) (25.3.0)\n",
      "Requirement already satisfied: networkx>=2.4 in /usr/local/lib/python3.12/dist-packages (from visions<0.8.2,>=0.7.5->visions[type_image_path]<0.8.2,>=0.7.5->ydata-profiling) (3.5)\n",
      "Requirement already satisfied: puremagic in /usr/local/lib/python3.12/dist-packages (from visions<0.8.2,>=0.7.5->visions[type_image_path]<0.8.2,>=0.7.5->ydata-profiling) (1.30)\n",
      "Requirement already satisfied: six>=1.5 in /usr/local/lib/python3.12/dist-packages (from python-dateutil>=2.7->matplotlib<=3.10,>=3.5->ydata-profiling) (1.17.0)\n"
     ]
    }
   ],
   "source": [
    "#Automated EDA\n",
    "!pip install ydata-profiling"
   ]
  },
  {
   "cell_type": "markdown",
   "metadata": {
    "id": "vcvIYbs0jT2B"
   },
   "source": [
    "Exploratory Data Analysis (EDA) with ydata-profiling"
   ]
  },
  {
   "cell_type": "markdown",
   "metadata": {
    "id": "Rm0uswFTjZ2H"
   },
   "source": [
    "Doing another pass at EDA using ydata-profiling.\n",
    "\n",
    "Actions based on EDA\n",
    "- Drop duplicates\n",
    "- One-hot encoding for unknowns\n",
    "- Encode categoricals\n",
    "- Scaling on 'age'\n",
    "- Mapping target 'y' to 1=yes and 0=no"
   ]
  },
  {
   "cell_type": "markdown",
   "metadata": {
    "id": "Zg6HO4SPjWC5"
   },
   "source": []
  },
  {
   "cell_type": "code",
   "execution_count": 9,
   "metadata": {
    "executionInfo": {
     "elapsed": 143,
     "status": "ok",
     "timestamp": 1756566423781,
     "user": {
      "displayName": "Johnny K",
      "userId": "00387309148732099634"
     },
     "user_tz": 300
    },
    "id": "hzlcwQeEhH1I"
   },
   "outputs": [],
   "source": [
    "data = pd.read_csv('data/bank-additional/bank-additional-full.csv', sep = ';')"
   ]
  },
  {
   "cell_type": "code",
   "execution_count": 10,
   "metadata": {
    "colab": {
     "base_uri": "https://localhost:8080/",
     "height": 336,
     "referenced_widgets": [
      "c025052b0d144e13a41e28df3bf272ca",
      "eefc93dffa9444b6b183e0c70a9e5b7c",
      "b8144867139642a7be41d31d72ea3035",
      "fdd0ba7d7c0f495aad78cedeafd88d27",
      "f1cc90da685f4c3a8491dea8e13fa2c9",
      "aeef47c28c9b4bc3bbd2f95ca2f37836",
      "babeb7c6efc14651898f77cbc77d91a8",
      "649cb1852eed47f290702368feaa1c85",
      "b5aea9f7533f49a5a7c322a7f4048478",
      "ded7a5839a574a5ba219c498912b1910",
      "04389de32f6245f4ae0b8b83ce3ae6a0",
      "8190e4c539894184b97b3f37bbd6c990",
      "a1428e9fc6b641c7818dc28497bc9cd4",
      "78fa599a0fb241138f424c0fefb365d0",
      "05dc5b268be042839fdf1052bb16f394",
      "42d2858c57e343ecadf0a0a5d2ea47b0",
      "245032e24c084be5ae847f89b0a51c1c",
      "794f9e34dc774b30b1bfa486cef4e590",
      "78d8b85b2b97402dadc2bbc7cfc119c3",
      "a0b1a1d2aab34dafb8ff92b618c09cb7",
      "a0ff98ccc3a8451d9f39f1497b9741c8",
      "390b12775c7f44f398d26512ce26e2ec",
      "8533b9f8bf5e4effae8ab9e1bae014e5",
      "e83a35b3dd3d4d05906576a1ce59368b",
      "1fc451f044b24f34989874a3d59b486f",
      "69465c9af5f04e419317d18289f54d18",
      "b0b61079a70d4a84bb38ba11861eb2ac",
      "2a6f8b5598e54f658a10e08f8126cfca",
      "98887a0a48744f26ac5c14cdbeaaba14",
      "0d30d3b4097d4cf6888490491e5b2d5b",
      "0b7d1bcd741e441b89e2fd9e0748f4bf",
      "8550e829278a4472a5c3319b97c94af1",
      "216570a3940c49cab3c73377bd5f6a0a",
      "fc4c410450b1491a93a3295536872dcd",
      "6949c59ec3ae423bb87e5c68497dc176",
      "534c6a8fff3649c4863678e21b25923c",
      "b8af189966ff4dc286530407a2d7e744",
      "9152b522d8444ccdb5e9eb50451b37ec",
      "5c391e5e99594d38bef61d18b613385a",
      "e21642223e9746419970f14684566de7",
      "a45bdffbb41c4f078c649a4823097500",
      "7b5345830c834242a963ff0cf3daeba5",
      "ca65a4f79f0e4310817f5e0d81fbf401",
      "a24bb6f932b943a9a1ff37c73341fe90"
     ]
    },
    "executionInfo": {
     "elapsed": 25928,
     "status": "ok",
     "timestamp": 1756566451709,
     "user": {
      "displayName": "Johnny K",
      "userId": "00387309148732099634"
     },
     "user_tz": 300
    },
    "id": "CNn1eUReYZU2",
    "outputId": "242aafd9-36fc-4a89-8ce2-0ac53efa32ee"
   },
   "outputs": [
    {
     "data": {
      "application/vnd.jupyter.widget-view+json": {
       "model_id": "c025052b0d144e13a41e28df3bf272ca",
       "version_major": 2,
       "version_minor": 0
      },
      "text/plain": [
       "Summarize dataset:   0%|          | 0/5 [00:00<?, ?it/s]"
      ]
     },
     "metadata": {},
     "output_type": "display_data"
    },
    {
     "name": "stderr",
     "output_type": "stream",
     "text": [
      "\n",
      "  0%|          | 0/21 [00:00<?, ?it/s]\u001b[A\n",
      "  5%|▍         | 1/21 [00:00<00:03,  6.56it/s]\u001b[A\n",
      " 14%|█▍        | 3/21 [00:00<00:02,  6.40it/s]\u001b[A\n",
      " 24%|██▍       | 5/21 [00:00<00:02,  7.97it/s]\u001b[A\n",
      " 29%|██▊       | 6/21 [00:00<00:01,  8.10it/s]\u001b[A\n",
      " 33%|███▎      | 7/21 [00:00<00:01,  7.20it/s]\u001b[A\n",
      " 43%|████▎     | 9/21 [00:01<00:01,  7.32it/s]\u001b[A\n",
      " 52%|█████▏    | 11/21 [00:01<00:01,  9.23it/s]\u001b[A\n",
      " 71%|███████▏  | 15/21 [00:01<00:00, 12.97it/s]\u001b[A\n",
      "100%|██████████| 21/21 [00:01<00:00, 11.97it/s]\n"
     ]
    },
    {
     "data": {
      "application/vnd.jupyter.widget-view+json": {
       "model_id": "8190e4c539894184b97b3f37bbd6c990",
       "version_major": 2,
       "version_minor": 0
      },
      "text/plain": [
       "Generate report structure:   0%|          | 0/1 [00:00<?, ?it/s]"
      ]
     },
     "metadata": {},
     "output_type": "display_data"
    },
    {
     "data": {
      "application/vnd.jupyter.widget-view+json": {
       "model_id": "8533b9f8bf5e4effae8ab9e1bae014e5",
       "version_major": 2,
       "version_minor": 0
      },
      "text/plain": [
       "Render HTML:   0%|          | 0/1 [00:00<?, ?it/s]"
      ]
     },
     "metadata": {},
     "output_type": "display_data"
    },
    {
     "data": {
      "application/vnd.jupyter.widget-view+json": {
       "model_id": "fc4c410450b1491a93a3295536872dcd",
       "version_major": 2,
       "version_minor": 0
      },
      "text/plain": [
       "Export report to file:   0%|          | 0/1 [00:00<?, ?it/s]"
      ]
     },
     "metadata": {},
     "output_type": "display_data"
    }
   ],
   "source": [
    "from ydata_profiling import ProfileReport\n",
    "\n",
    "profile = ProfileReport(data)\n",
    "profile.to_file(output_file='output.html')"
   ]
  },
  {
   "cell_type": "code",
   "execution_count": 11,
   "metadata": {
    "colab": {
     "base_uri": "https://localhost:8080/"
    },
    "executionInfo": {
     "elapsed": 56,
     "status": "ok",
     "timestamp": 1756566547177,
     "user": {
      "displayName": "Johnny K",
      "userId": "00387309148732099634"
     },
     "user_tz": 300
    },
    "id": "pq3Ivs7uhYrk",
    "outputId": "85fa9336-529a-4cbb-906c-39851788b843"
   },
   "outputs": [
    {
     "name": "stdout",
     "output_type": "stream",
     "text": [
      "First pass on number of rows: 41188\n",
      "Rows after dropping duplicates: 41176\n",
      "Duplicate rows removed afterwars: 12\n"
     ]
    }
   ],
   "source": [
    "# Get initial rows\n",
    "initial_rows = df.shape[0]\n",
    "\n",
    "# Remove duplicate rows\n",
    "df.drop_duplicates(inplace=True)\n",
    "\n",
    "# Get rows count after removing duplicates\n",
    "rows_after_dropping_duplicates = df.shape[0]\n",
    "\n",
    "print(f\"First pass on number of rows: {initial_rows}\")\n",
    "print(f\"Rows after dropping duplicates: {rows_after_dropping_duplicates}\")\n",
    "print(f\"Duplicate rows removed afterwars: {initial_rows - rows_after_dropping_duplicates}\")"
   ]
  },
  {
   "cell_type": "markdown",
   "metadata": {
    "id": "0CHyS4JGkpai"
   },
   "source": [
    "## Time to Clean-up the data !"
   ]
  },
  {
   "cell_type": "code",
   "execution_count": 16,
   "metadata": {
    "colab": {
     "base_uri": "https://localhost:8080/"
    },
    "executionInfo": {
     "elapsed": 96,
     "status": "ok",
     "timestamp": 1756567518966,
     "user": {
      "displayName": "Johnny K",
      "userId": "00387309148732099634"
     },
     "user_tz": 300
    },
    "id": "qUtBQKxEkk48",
    "outputId": "76e13583-96b6-4b16-b482-223f94b4d810"
   },
   "outputs": [
    {
     "name": "stdout",
     "output_type": "stream",
     "text": [
      "Encoded Features Shaping: (41176, 28)\n",
      "Target Shaping: (41176,)\n"
     ]
    }
   ],
   "source": [
    "# Drop duplicates per EDA report\n",
    "df = df.drop_duplicates()\n",
    "\n",
    "# Select bank client data features\n",
    "client_features = ['age', 'job', 'marital', 'education', 'default', 'housing', 'loan']\n",
    "df_client = df[client_features + ['y']]\n",
    "\n",
    "# Encode categorical variables treating 'unknown' as category\n",
    "df_encoded = pd.get_dummies(df_client, columns=['job', 'marital', 'education', 'default', 'housing', 'loan'], drop_first=True)\n",
    "\n",
    "# Change target to binary\n",
    "df_encoded['y'] = df_encoded['y'].map({'yes': 1, 'no': 0})\n",
    "\n",
    "# Separate features and target\n",
    "X = df_encoded.drop('y', axis=1)\n",
    "y = df_encoded['y']\n",
    "\n",
    "# Scale numerical feature\n",
    "scaler = StandardScaler()\n",
    "X['age'] = scaler.fit_transform(X[['age']])\n",
    "\n",
    "print(\"Encoded Features Shaping:\", X.shape)\n",
    "print(\"Target Shaping:\", y.shape)"
   ]
  },
  {
   "cell_type": "markdown",
   "metadata": {
    "id": "MDwx8YrAlXXJ"
   },
   "source": [
    "Dropping 12 duplicates based on the EDA report. Use the one hot encoding for categoricals values and the 'unknowns'. Binary mapping for y and scaled the age for the upcoming models like KNN and the SVM. All this will help wit the imbalancing."
   ]
  },
  {
   "cell_type": "markdown",
   "metadata": {
    "id": "SxiC1IQZYZU2"
   },
   "source": [
    "### Problem 6: Train/Test Split\n",
    "\n",
    "With your data prepared, split it into a train and test set."
   ]
  },
  {
   "cell_type": "code",
   "execution_count": 20,
   "metadata": {
    "colab": {
     "base_uri": "https://localhost:8080/"
    },
    "executionInfo": {
     "elapsed": 11,
     "status": "ok",
     "timestamp": 1756567929688,
     "user": {
      "displayName": "Johnny K",
      "userId": "00387309148732099634"
     },
     "user_tz": 300
    },
    "id": "WNO1ffT6YZU2",
    "outputId": "c83f7a1c-c129-4d46-ca0c-375d3231037c"
   },
   "outputs": [
    {
     "name": "stdout",
     "output_type": "stream",
     "text": [
      "Training Set Shape: (32940, 28)\n",
      "Testing Set Shape: (8236, 28)\n"
     ]
    }
   ],
   "source": [
    "# Split data into training and testing sets\n",
    "X_train, X_test, y_train, y_test = train_test_split(X, y, test_size=0.2, random_state=42)\n",
    "\n",
    "print(\"Training Set Shape:\", X_train.shape)\n",
    "print(\"Testing Set Shape:\", X_test.shape)"
   ]
  },
  {
   "cell_type": "markdown",
   "metadata": {
    "id": "O9CmKEQlm7Iz"
   },
   "source": [
    "Splitting the data using 80/20 standard split and random_state with the 42 default."
   ]
  },
  {
   "cell_type": "markdown",
   "metadata": {
    "id": "0kpElk3mYZU3"
   },
   "source": [
    "### Problem 7: A Baseline Model\n",
    "\n",
    "Before we build our first model, we want to establish a baseline.  What is the baseline performance that our classifier should aim to beat?"
   ]
  },
  {
   "cell_type": "code",
   "execution_count": 53,
   "metadata": {
    "colab": {
     "base_uri": "https://localhost:8080/",
     "height": 427
    },
    "executionInfo": {
     "elapsed": 489,
     "status": "ok",
     "timestamp": 1756571848010,
     "user": {
      "displayName": "Johnny K",
      "userId": "00387309148732099634"
     },
     "user_tz": 300
    },
    "id": "VEQxzeeZYZU3",
    "outputId": "57dc45ed-9339-444e-d98a-8c6afa0dfc84"
   },
   "outputs": [
    {
     "name": "stdout",
     "output_type": "stream",
     "text": [
      "Baseline Accuracy: 0.8821\n"
     ]
    },
    {
     "data": {
      "image/png": "[encoded data removed]",
      "text/plain": [
       "<Figure size 600x400 with 2 Axes>"
      ]
     },
     "metadata": {},
     "output_type": "display_data"
    }
   ],
   "source": [
    "# Baseline - predict the majority class 'no'\n",
    "baseline = DummyClassifier(strategy='most_frequent')\n",
    "baseline.fit(X_train, y_train)\n",
    "baseline_accuracy = baseline.score(X_test, y_test)\n",
    "\n",
    "print(f\"Baseline Accuracy: {baseline_accuracy:.4f}\")\n",
    "\n",
    "# Using confusion matrix to visualize\n",
    "y_pred_baseline = baseline.predict(X_test)\n",
    "plt.figure(figsize=(6, 4))\n",
    "sns.heatmap(confusion_matrix(y_test, y_pred_baseline), annot=True, fmt='d', cmap='Purples')\n",
    "plt.title('Baseline Model Confusion Matrix')\n",
    "plt.xlabel('Predicted')\n",
    "plt.ylabel('Actual')\n",
    "plt.show()"
   ]
  },
  {
   "cell_type": "markdown",
   "metadata": {
    "id": "WokAXc6ypwmQ"
   },
   "source": [
    "After looking at the confusion matrix, the baseline identifies all the 'no' but not the really the 'yes'. So predicting only the 'no' for customers, we can only be correct about 88.21% of the time. This is due to the imbalance of the dataset where clients don't subscribe to the term. There is some inaccuracy using this type of metric for such an imbalanced dataset. Focus on the 'yes' needs to be included in future analysis to make it more accurate. The upcoming models like LR, SVM, and Decision Tree can be used.\n",
    "\n",
    "Also, looking at the EDA, this 88% aligns with the 'no' rate from the EDA."
   ]
  },
  {
   "cell_type": "markdown",
   "metadata": {
    "id": "uts0QseTYZU3"
   },
   "source": [
    "### Problem 8: A Simple Model\n",
    "\n",
    "Use Logistic Regression to build a basic model on your data.  "
   ]
  },
  {
   "cell_type": "markdown",
   "metadata": {
    "id": "GNIhq87ksmQw"
   },
   "source": [
    "Using higher number of interations because of large dataset and features to make sure it works."
   ]
  },
  {
   "cell_type": "code",
   "execution_count": 49,
   "metadata": {
    "colab": {
     "base_uri": "https://localhost:8080/"
    },
    "executionInfo": {
     "elapsed": 386,
     "status": "ok",
     "timestamp": 1756570387935,
     "user": {
      "displayName": "Johnny K",
      "userId": "00387309148732099634"
     },
     "user_tz": 300
    },
    "id": "c2ioMd8uYZU3",
    "outputId": "fec997df-be3f-423c-d7dd-951d314f0838"
   },
   "outputs": [
    {
     "name": "stdout",
     "output_type": "stream",
     "text": [
      "Trained Logistic Regression Model\n"
     ]
    }
   ],
   "source": [
    "# Train Logistic Regression model\n",
    "log_reg = LogisticRegression(max_iter=1000)\n",
    "log_reg.fit(X_train, y_train)\n",
    "\n",
    "print(\"Trained Logistic Regression Model\")"
   ]
  },
  {
   "cell_type": "markdown",
   "metadata": {
    "id": "JWe-TRS8YZU3"
   },
   "source": [
    "### Problem 9: Score the Model\n",
    "\n",
    "What is the accuracy of your model?"
   ]
  },
  {
   "cell_type": "code",
   "execution_count": 50,
   "metadata": {
    "colab": {
     "base_uri": "https://localhost:8080/"
    },
    "executionInfo": {
     "elapsed": 37,
     "status": "ok",
     "timestamp": 1756570391568,
     "user": {
      "displayName": "Johnny K",
      "userId": "00387309148732099634"
     },
     "user_tz": 300
    },
    "id": "3l1tbmsgYZU3",
    "outputId": "f7e171fb-04b1-44f4-9473-e8cb56ff04d5"
   },
   "outputs": [
    {
     "name": "stdout",
     "output_type": "stream",
     "text": [
      "Testing Accuracy on Logistic Regression Model: 0.8821\n"
     ]
    }
   ],
   "source": [
    "# Scoring Logistic Regression model\n",
    "y_pred_log_reg = log_reg.predict(X_test)\n",
    "log_reg_accuracy = accuracy_score(y_test, y_pred_log_reg)\n",
    "\n",
    "print(f\"Testing Accuracy on Logistic Regression Model: {log_reg_accuracy:.4f}\")"
   ]
  },
  {
   "cell_type": "code",
   "execution_count": 47,
   "metadata": {
    "colab": {
     "base_uri": "https://localhost:8080/",
     "height": 410
    },
    "executionInfo": {
     "elapsed": 196,
     "status": "ok",
     "timestamp": 1756570348869,
     "user": {
      "displayName": "Johnny K",
      "userId": "00387309148732099634"
     },
     "user_tz": 300
    },
    "id": "Ef2QMd9BtLI-",
    "outputId": "307c9724-2f28-4567-ff8c-62e3a7b7195c"
   },
   "outputs": [
    {
     "data": {
      "image/png": "[encoded data removed]",
      "text/plain": [
       "<Figure size 600x400 with 2 Axes>"
      ]
     },
     "metadata": {},
     "output_type": "display_data"
    }
   ],
   "source": [
    "# Using the confusion matrix to visualize accuracy\n",
    "plt.figure(figsize=(6, 4))\n",
    "sns.heatmap(confusion_matrix(y_test, y_pred_log_reg), annot=True, fmt='d', cmap='Greens')\n",
    "plt.title('Logistic Regression Confusion Matrix')\n",
    "plt.xlabel('Predicted')\n",
    "plt.ylabel('Actual')\n",
    "plt.show()"
   ]
  },
  {
   "cell_type": "markdown",
   "metadata": {
    "id": "kS7V8ifGwWpL"
   },
   "source": [
    "Comparing 88.21% accuracy to baseline 88.21%. It's very likely the model is predicting on the the non-subscribers than the actual subscribers who would. The accuracy and baseline being exact bascially suggests that it's not effective as-is to find potential customers."
   ]
  },
  {
   "cell_type": "markdown",
   "metadata": {
    "id": "oVPtOILfYZU3"
   },
   "source": [
    "### Problem 10: Model Comparisons\n",
    "\n",
    "Now, we aim to compare the performance of the Logistic Regression model to our KNN algorithm, Decision Tree, and SVM models.  Using the default settings for each of the models, fit and score each.  Also, be sure to compare the fit time of each of the models.  Present your findings in a `DataFrame` similar to that below:\n",
    "\n",
    "| Model | Train Time | Train Accuracy | Test Accuracy |\n",
    "| ----- | ---------- | -------------  | -----------   |\n",
    "|     |    |.     |.     |"
   ]
  },
  {
   "cell_type": "code",
   "execution_count": 59,
   "metadata": {
    "colab": {
     "base_uri": "https://localhost:8080/"
    },
    "executionInfo": {
     "elapsed": 150185,
     "status": "ok",
     "timestamp": 1756573228115,
     "user": {
      "displayName": "Johnny K",
      "userId": "00387309148732099634"
     },
     "user_tz": 300
    },
    "id": "8iGiDVx7YZU3",
    "outputId": "764e96e0-0620-47dc-b607-e91e26bee398"
   },
   "outputs": [
    {
     "name": "stdout",
     "output_type": "stream",
     "text": [
      "\n",
      "Model Comparison:\n",
      "                 Model  Train Time  Train Accuracy  Test Accuracy\n",
      "0                  KNN    0.017594        0.891014       0.872632\n",
      "1  Logistic Regression    0.522862        0.888646       0.882103\n",
      "2        Decision Tree    0.177690        0.917031       0.864376\n",
      "3                  SVM  102.675227        0.889344       0.881860\n"
     ]
    }
   ],
   "source": [
    "#Identifyig models used for comparison\n",
    "\n",
    "models = {\n",
    "    'KNN': KNeighborsClassifier(),\n",
    "    'Logistic Regression': LogisticRegression(max_iter=1000),\n",
    "    'Decision Tree': DecisionTreeClassifier(),\n",
    "    'SVM': SVC()\n",
    "}\n",
    "\n",
    "# Store results\n",
    "results = []\n",
    "\n",
    "# Train and evaluate each model\n",
    "for name, model in models.items():\n",
    "    start_time = time.time()\n",
    "    model.fit(X_train, y_train)\n",
    "    train_time = time.time() - start_time\n",
    "    train_accuracy = model.score(X_train, y_train)\n",
    "    test_accuracy = model.score(X_test, y_test)\n",
    "    results.append({\n",
    "        'Model': name,\n",
    "        'Train Time': train_time,\n",
    "        'Train Accuracy': train_accuracy,\n",
    "        'Test Accuracy': test_accuracy\n",
    "    })\n",
    "\n",
    "# Create DataFrame\n",
    "results_df = pd.DataFrame(results)\n",
    "print(\"\\nModel Comparison:\")\n",
    "print(results_df)"
   ]
  },
  {
   "cell_type": "markdown",
   "metadata": {
    "id": "BS3fCpdl7U3C"
   },
   "source": [
    "Summary of report\n",
    "- All models are ranging between 86% to 88% which is very close to the 88.21% baseline. This suggessts that accuracy might not be the best metric here to use becuse of that high imbalance of 'no' vs 'yes'.\n",
    "- the models overall are performing well at classyfying, but not being effective on identfying the 'yes' term subscriptions\n",
    "- The training time is very high for SVM at 102 seconds compared to the the other models, but for KNN it's the fastest but not by much compared to the Decision treen.\n",
    "- As for overfitting which can be see comparing the training vs. the test. Since all the models EXCEPT for Decision Tree, are close which suggests low overfitting. Since Decision tree si 91.7% Train / 86.4% Test, it could be overfitting.\n",
    "- Overall, generalization of the data across the models is pretty good, the minority class 'yes' is still inaccurately being displayed. This is where looking at precision over accuracy is good and F1 scoring might help."
   ]
  },
  {
   "cell_type": "code",
   "execution_count": 60,
   "metadata": {
    "colab": {
     "base_uri": "https://localhost:8080/",
     "height": 577
    },
    "executionInfo": {
     "elapsed": 258,
     "status": "ok",
     "timestamp": 1756573236342,
     "user": {
      "displayName": "Johnny K",
      "userId": "00387309148732099634"
     },
     "user_tz": 300
    },
    "id": "RT3njFuYYZU3",
    "outputId": "2f1a3359-2864-4cef-8a2f-3ad8326ae0fe"
   },
   "outputs": [
    {
     "data": {
      "image/png": "[encoded data removed]",
      "text/plain": [
       "<Figure size 800x500 with 1 Axes>"
      ]
     },
     "metadata": {},
     "output_type": "display_data"
    }
   ],
   "source": [
    "# Visualize test accuracy\n",
    "plt.figure(figsize=(8, 5))\n",
    "sns.barplot(x='Model', y='Test Accuracy', data=results_df, hue='Model', palette=['red', 'green', 'blue', 'purple'], legend=False)\n",
    "plt.xticks(rotation=45)\n",
    "plt.title('Testing Accuracy of Models')\n",
    "plt.ylim(0, 1)\n",
    "plt.show()"
   ]
  },
  {
   "cell_type": "code",
   "execution_count": null,
   "metadata": {
    "id": "Ay90A_mIYZU3"
   },
   "outputs": [],
   "source": []
  },
  {
   "cell_type": "markdown",
   "metadata": {
    "id": "UR34RKhDYZU3"
   },
   "source": [
    "### Problem 11: Improving the Model\n",
    "\n",
    "Now that we have some basic models on the board, we want to try to improve these.  Below, we list a few things to explore in this pursuit.\n",
    "\n",
    "- More feature engineering and exploration.  For example, should we keep the gender feature?  Why or why not?\n",
    "- Hyperparameter tuning and grid search.  All of our models have additional hyperparameters to tune and explore.  For example the number of neighbors in KNN or the maximum depth of a Decision Tree.  \n",
    "- Adjust your performance metric"
   ]
  },
  {
   "cell_type": "code",
   "execution_count": 76,
   "metadata": {
    "colab": {
     "base_uri": "https://localhost:8080/",
     "height": 564
    },
    "executionInfo": {
     "elapsed": 2254,
     "status": "ok",
     "timestamp": 1756574996452,
     "user": {
      "displayName": "Johnny K",
      "userId": "00387309148732099634"
     },
     "user_tz": 300
    },
    "id": "kIeoH96dYZU3",
    "outputId": "60674903-847b-42f5-9f72-a9e8d20bfbb7"
   },
   "outputs": [
    {
     "data": {
      "image/png": "[encoded data removed]",
      "text/plain": [
       "<Figure size 800x600 with 1 Axes>"
      ]
     },
     "metadata": {},
     "output_type": "display_data"
    }
   ],
   "source": [
    "# I'm going to add all features to see if it can improve models\n",
    "all_features = ['age', 'job', 'marital', 'education', 'default', 'housing', 'loan', 'contact', 'month', 'day_of_week', 'duration', 'campaign', 'pdays', 'previous', 'poutcome', 'emp.var.rate', 'cons.price.idx', 'cons.conf.idx', 'euribor3m', 'nr.employed']\n",
    "df_all = df[all_features + ['y']]\n",
    "df_all_encoded = pd.get_dummies(df_all, columns=['job', 'marital', 'education', 'default', 'housing', 'loan', 'contact', 'month', 'day_of_week', 'poutcome'], drop_first=True)\n",
    "df_all_encoded['y'] = df_all_encoded['y'].map({'yes': 1, 'no': 0})\n",
    "\n",
    "# Scaling the numerical features\n",
    "numerical_cols = ['age', 'duration', 'campaign', 'pdays', 'previous', 'emp.var.rate', 'cons.price.idx', 'cons.conf.idx', 'euribor3m', 'nr.employed']\n",
    "X_all = df_all_encoded.drop('y', axis=1)\n",
    "y_all = df_all_encoded['y']\n",
    "X_all[numerical_cols] = scaler.fit_transform(X_all[numerical_cols])\n",
    "\n",
    "# Split the new data\n",
    "X_train_all, X_test_all, y_train_all, y_test_all = train_test_split(X_all, y_all, test_size=0.2, random_state=42)\n",
    "\n",
    "# Logistic Regression coefficients visual\n",
    "coef_df = pd.DataFrame({'Feature': X_train_all.columns, 'Coefficient': log_reg.fit(X_train_all, y_train_all).coef_[0]}).sort_values(by='Coefficient', ascending=False)\n",
    "plt.figure(figsize=(8, 6))\n",
    "sns.barplot(x='Coefficient', y='Feature', data=coef_df.head(10), hue='Coefficient', palette='viridis', legend=False)\n",
    "plt.title('Top 10 Logistic Regression Coefficients')\n",
    "plt.show()"
   ]
  },
  {
   "cell_type": "markdown",
   "metadata": {
    "id": "C-8KRjNq_dWL"
   },
   "source": [
    "Finding report so far:\n",
    "- 'Duration' and 'campaign' are key predictors as seen in the graph based LR coefficents. I will need to exclue 'duration' for it to work in a realistic model. Basically, the longer the call as I mentioned earlier, the higher the duration and most likely the customer will get the term subscription.\n",
    "- For campaign, it's a negative reaction becuase the more time you contact the customer the less likely they are to go with term subscription - annoyed."
   ]
  },
  {
   "cell_type": "markdown",
   "metadata": {
    "id": "OlCenC8HCyhw"
   },
   "source": [
    "##Hyperparameter Tuning"
   ]
  },
  {
   "cell_type": "markdown",
   "metadata": {
    "id": "So_rZTAjC5vZ"
   },
   "source": [
    "Going to use Gridsearch  5 fold cross-validation and F1 scoring for this.\n",
    "\n",
    "\n",
    "> Add blockquote\n",
    "\n"
   ]
  },
  {
   "cell_type": "code",
   "execution_count": 78,
   "metadata": {
    "colab": {
     "base_uri": "https://localhost:8080/"
    },
    "executionInfo": {
     "elapsed": 410690,
     "status": "ok",
     "timestamp": 1756575763014,
     "user": {
      "displayName": "Johnny K",
      "userId": "00387309148732099634"
     },
     "user_tz": 300
    },
    "id": "KXVGwNSHYZU3",
    "outputId": "2f900ede-162f-4917-ef5f-438d2189d27d"
   },
   "outputs": [
    {
     "name": "stdout",
     "output_type": "stream",
     "text": [
      "KNN Best Parameters: {'n_neighbors': 7}\n",
      "KNN Best Cross-Validation F1-Score: 0.4976\n",
      "Logistic Regression Best Parameters: {'C': 10}\n",
      "Logistic Regression Best Cross-Validation F1-Score: 0.5209\n",
      "Decision Tree Best Parameters: {'max_depth': 3}\n",
      "Decision Tree Best Cross-Validation F1-Score: 0.5912\n",
      "SVM Best Parameters: {'C': 1, 'kernel': 'rbf'}\n",
      "SVM Best Cross-Validation F1-Score: 0.5071\n"
     ]
    }
   ],
   "source": [
    "# Parameter grids\n",
    "\n",
    "param_grids = {\n",
    "    'KNN': {'n_neighbors': [3, 5, 7]},\n",
    "    'Logistic Regression': {'C': [0.1, 1, 10]},\n",
    "    'Decision Tree': {'max_depth': [3, 5, None]},\n",
    "    'SVM': {'C': [0.1, 1], 'kernel': ['linear', 'rbf']}\n",
    "}\n",
    "\n",
    "# Perform grid searching with F1 score\n",
    "best_models = {}\n",
    "for name, model in models.items():\n",
    "    grid_search = GridSearchCV(model, param_grids[name], cv=5, scoring='f1')\n",
    "    grid_search.fit(X_train_all, y_train_all)\n",
    "    best_models[name] = grid_search.best_estimator_\n",
    "    print(f\"{name} Best Parameters: {grid_search.best_params_}\")\n",
    "    print(f\"{name} Best Cross-Validation F1-Score: {grid_search.best_score_:.4f}\")"
   ]
  },
  {
   "cell_type": "markdown",
   "metadata": {
    "id": "_Caxui4FGnRI"
   },
   "source": [
    "##Summary of report\n",
    "KNN Model Report\n",
    "KNN Best Parameters: {'n_neighbors': 7}\n",
    "KNN Best Cross-Validation F1-Score: 0.4976\n",
    "Note: 7 is the best choice among 3, 5, 7 giving the highest score F1 score. The score of 49.7% suggests a good balance between precision and recall for identifying the 'yes' subscriptions in the training data\n",
    "\n",
    "Logistic Regression Model Report\n",
    "Logistic Regression Best Parameters: {'C': 10}\n",
    "Logistic Regression Best Cross-Validation F1-Score: 0.5209\n",
    "Note: Just a little higher than the KNN at 52.0%, so not too bad on balance of precision and recall as well.\n",
    "\n",
    "Decision Tree Model Report\n",
    "Decision Tree Best Parameters: {'max_depth': 3}\n",
    "Decision Tree Best Cross-Validation F1-Score: 0.5912\n",
    "Note: Out of the three values 3, 5, none , the depth of 3 is the best. So, limiting the depth of the tree helps improve the f1 score and potentially reduce overfitting. The score of 59.1% also suggests that a tree with less depth would be good at identifying the 'yes' in the dataset.\n",
    "\n",
    "SVM Model Report\n",
    "SVM Best Parameters: {'C': 1, 'kernel': 'rbf'}\n",
    "SVM Best Cross-Validation F1-Score: 0.5071\n",
    "Note: This model always takes the longest to perform overall. It's training time is much higher than the rest of the models. Overall, focusing on identifying the 'yes' term is moderate compared to KNN and LR. However, not as effective as the Decision tree. Computational costs need to be considered here if the consumption is worth the calc since the other models can perform similarly if not better.\n",
    "\n",
    "\n",
    "\n"
   ]
  },
  {
   "cell_type": "markdown",
   "metadata": {
    "id": "KUo1kYNjJorD"
   },
   "source": [
    "##Performanc Metrics"
   ]
  },
  {
   "cell_type": "markdown",
   "metadata": {
    "id": "-HE29LI5Js9X"
   },
   "source": [
    "This next section will attempt to determine the best evaluation metric for ALL models."
   ]
  },
  {
   "cell_type": "code",
   "execution_count": 86,
   "metadata": {
    "colab": {
     "base_uri": "https://localhost:8080/",
     "height": 601
    },
    "executionInfo": {
     "elapsed": 2989,
     "status": "ok",
     "timestamp": 1756577886440,
     "user": {
      "displayName": "Johnny K",
      "userId": "00387309148732099634"
     },
     "user_tz": 300
    },
    "id": "36382bf1",
    "outputId": "4b63dac0-480c-43be-8d8b-711f75b9b863"
   },
   "outputs": [
    {
     "name": "stdout",
     "output_type": "stream",
     "text": [
      "\n",
      "KNN Performance:\n",
      "              precision    recall  f1-score   support\n",
      "\n",
      "           0       0.93      0.96      0.94      7265\n",
      "           1       0.61      0.42      0.50       971\n",
      "\n",
      "    accuracy                           0.90      8236\n",
      "   macro avg       0.77      0.69      0.72      8236\n",
      "weighted avg       0.89      0.90      0.89      8236\n",
      "\n"
     ]
    },
    {
     "data": {
      "image/png": "[encoded data removed]",
      "text/plain": [
       "<Figure size 600x400 with 2 Axes>"
      ]
     },
     "metadata": {},
     "output_type": "display_data"
    }
   ],
   "source": [
    "# Evaluating the Tuned KNN Model\n",
    "from sklearn.metrics import classification_report, confusion_matrix\n",
    "import seaborn as sns\n",
    "import matplotlib.pyplot as plt\n",
    "\n",
    "name = 'KNN'\n",
    "model = best_models[name]\n",
    "y_pred = model.predict(X_test_all)\n",
    "\n",
    "print(f\"\\n{name} Performance:\")\n",
    "print(classification_report(y_test_all, y_pred))\n",
    "\n",
    "plt.figure(figsize=(6, 4))\n",
    "sns.heatmap(confusion_matrix(y_test_all, y_pred), annot=True, fmt='d', cmap='Blues')\n",
    "plt.title(f'Confusion Matrix for {name}')\n",
    "plt.xlabel('Predicted')\n",
    "plt.ylabel('Actual')\n",
    "plt.show()"
   ]
  },
  {
   "cell_type": "markdown",
   "metadata": {
    "id": "mwHg3JCiNtda"
   },
   "source": [
    "##Summary of Results\n",
    "\n",
    "K Nearest Neighbor\n",
    "\n",
    "The KNN model performs very well to identify customers who will NOT subscribe (focusing on higher precision and recall for the class 0 'no'). However, it struggles to identify the class 1 'yes'. It precision to predict 'yes' at 61% , but misses alot of actual 'yes' at 42%.  The F1 score of 50% for minority 'yes' is a limitation. For prediction on the business objective, this is a low recall (false negatives) and a concern as potential leads could be missed entirely."
   ]
  },
  {
   "cell_type": "code",
   "execution_count": 87,
   "metadata": {
    "colab": {
     "base_uri": "https://localhost:8080/",
     "height": 601
    },
    "executionInfo": {
     "elapsed": 277,
     "status": "ok",
     "timestamp": 1756578002972,
     "user": {
      "displayName": "Johnny K",
      "userId": "00387309148732099634"
     },
     "user_tz": 300
    },
    "id": "52856317",
    "outputId": "2ea8f640-ab34-4522-b431-04afba1e8f5d"
   },
   "outputs": [
    {
     "name": "stdout",
     "output_type": "stream",
     "text": [
      "\n",
      "Logistic Regression Performance:\n",
      "              precision    recall  f1-score   support\n",
      "\n",
      "           0       0.92      0.97      0.95      7265\n",
      "           1       0.66      0.41      0.51       971\n",
      "\n",
      "    accuracy                           0.91      8236\n",
      "   macro avg       0.79      0.69      0.73      8236\n",
      "weighted avg       0.89      0.91      0.90      8236\n",
      "\n"
     ]
    },
    {
     "data": {
      "image/png": "[encoded data removed]",
      "text/plain": [
       "<Figure size 600x400 with 2 Axes>"
      ]
     },
     "metadata": {},
     "output_type": "display_data"
    }
   ],
   "source": [
    "# Evaluating the Tuned Logistic Regression Model\n",
    "from sklearn.metrics import classification_report, confusion_matrix\n",
    "import seaborn as sns\n",
    "import matplotlib.pyplot as plt\n",
    "\n",
    "name = 'Logistic Regression'\n",
    "model = best_models[name]\n",
    "y_pred = model.predict(X_test_all)\n",
    "\n",
    "print(f\"\\n{name} Performance:\")\n",
    "print(classification_report(y_test_all, y_pred))\n",
    "\n",
    "plt.figure(figsize=(6, 4))\n",
    "sns.heatmap(confusion_matrix(y_test_all, y_pred), annot=True, fmt='d', cmap='Greens')\n",
    "plt.title(f'Confusion Matrix for {name}')\n",
    "plt.xlabel('Predicted')\n",
    "plt.ylabel('Actual')\n",
    "plt.show()"
   ]
  },
  {
   "cell_type": "markdown",
   "metadata": {
    "id": "Sau-XpwuPGls"
   },
   "source": [
    "Logistic Regression Report\n",
    "\n",
    "The model performs well and similar to the KNN model above. It's great at identifying customers who will NOT term subscribe which is high precision and recall. However, it still struggles like the KNN at identifying customers who will subscribe having a lower recall for 'yes'. The precision for predicting 'yes' is a little better than KNN (66% vs. 61%) , the recall is lower (41% vs. 42$) giving a very similar F1 scoring (51% vs 50%) for the minority class 'yes'. Overall, despite the tuning done, it's missing potential subscribers.\n",
    "\n",
    "\n"
   ]
  },
  {
   "cell_type": "code",
   "execution_count": 88,
   "metadata": {
    "colab": {
     "base_uri": "https://localhost:8080/",
     "height": 601
    },
    "executionInfo": {
     "elapsed": 225,
     "status": "ok",
     "timestamp": 1756578007337,
     "user": {
      "displayName": "Johnny K",
      "userId": "00387309148732099634"
     },
     "user_tz": 300
    },
    "id": "893a402f",
    "outputId": "9622e6bc-440c-4389-f6d6-22657d233dc8"
   },
   "outputs": [
    {
     "name": "stdout",
     "output_type": "stream",
     "text": [
      "\n",
      "Decision Tree Performance:\n",
      "              precision    recall  f1-score   support\n",
      "\n",
      "           0       0.95      0.94      0.94      7265\n",
      "           1       0.59      0.59      0.59       971\n",
      "\n",
      "    accuracy                           0.90      8236\n",
      "   macro avg       0.77      0.77      0.77      8236\n",
      "weighted avg       0.90      0.90      0.90      8236\n",
      "\n"
     ]
    },
    {
     "data": {
      "image/png": "[encoded data removed]",
      "text/plain": [
       "<Figure size 600x400 with 2 Axes>"
      ]
     },
     "metadata": {},
     "output_type": "display_data"
    }
   ],
   "source": [
    "# Evaluate the Tuned Decision Tree Model\n",
    "from sklearn.metrics import classification_report, confusion_matrix\n",
    "import seaborn as sns\n",
    "import matplotlib.pyplot as plt\n",
    "\n",
    "name = 'Decision Tree'\n",
    "model = best_models[name]\n",
    "y_pred = model.predict(X_test_all)\n",
    "\n",
    "print(f\"\\n{name} Performance:\")\n",
    "print(classification_report(y_test_all, y_pred))\n",
    "\n",
    "plt.figure(figsize=(6, 4))\n",
    "sns.heatmap(confusion_matrix(y_test_all, y_pred), annot=True, fmt='d', cmap='Oranges')\n",
    "plt.title(f'Confusion Matrix for {name}')\n",
    "plt.xlabel('Predicted')\n",
    "plt.ylabel('Actual')\n",
    "plt.show()"
   ]
  },
  {
   "cell_type": "markdown",
   "metadata": {
    "id": "lSvpgkGzQdwb"
   },
   "source": [
    "Decision Tree Report\n",
    "\n",
    "The Decision Tree model with a depth of 3 found using GridSearchCV, showed a good reliability to identify the 'yes' customers compared to both KNN and Logistic regression. Since the precision for 'yes' is slighltly lower, the higher recall (59% vs 42%) gives a better F1 score (59% vs 50%). This means the Decision Tree is awesome and better at finding subscribing customers !!!. Overall, the Decision Tree is better performing among the models to meet the business objective at predicting term subscribers.\n",
    "\n",
    "\n"
   ]
  },
  {
   "cell_type": "code",
   "execution_count": 89,
   "metadata": {
    "colab": {
     "base_uri": "https://localhost:8080/",
     "height": 601
    },
    "executionInfo": {
     "elapsed": 6749,
     "status": "ok",
     "timestamp": 1756578017542,
     "user": {
      "displayName": "Johnny K",
      "userId": "00387309148732099634"
     },
     "user_tz": 300
    },
    "id": "5a5261b9",
    "outputId": "20aed3ab-f329-4183-deb9-77936f9502a9"
   },
   "outputs": [
    {
     "name": "stdout",
     "output_type": "stream",
     "text": [
      "\n",
      "SVM Performance:\n",
      "              precision    recall  f1-score   support\n",
      "\n",
      "           0       0.93      0.97      0.95      7265\n",
      "           1       0.69      0.42      0.52       971\n",
      "\n",
      "    accuracy                           0.91      8236\n",
      "   macro avg       0.81      0.69      0.73      8236\n",
      "weighted avg       0.90      0.91      0.90      8236\n",
      "\n"
     ]
    },
    {
     "data": {
      "image/png": "[encoded data removed]",
      "text/plain": [
       "<Figure size 600x400 with 2 Axes>"
      ]
     },
     "metadata": {},
     "output_type": "display_data"
    }
   ],
   "source": [
    "# Evaluate the Tuned SVM Model (HIGHLY COMPUTATIONAL)\n",
    "from sklearn.metrics import classification_report, confusion_matrix\n",
    "import seaborn as sns\n",
    "import matplotlib.pyplot as plt\n",
    "\n",
    "name = 'SVM'\n",
    "model = best_models[name]\n",
    "y_pred = model.predict(X_test_all)\n",
    "\n",
    "print(f\"\\n{name} Performance:\")\n",
    "print(classification_report(y_test_all, y_pred))\n",
    "\n",
    "plt.figure(figsize=(6, 4))\n",
    "sns.heatmap(confusion_matrix(y_test_all, y_pred), annot=True, fmt='d', cmap='Greys')\n",
    "plt.title(f'Confusion Matrix for {name}')\n",
    "plt.xlabel('Predicted')\n",
    "plt.ylabel('Actual')\n",
    "plt.show()"
   ]
  },
  {
   "cell_type": "markdown",
   "metadata": {
    "id": "CzJmnpW3R2zP"
   },
   "source": [
    "SVM Model Report\n",
    "\n",
    "The SVM model shows the highest precision for predicting the minority class 'yes' among all the models to predict subscription and is more likely to be accurate at 69%. The recall for identifying actual term subscribers is low at 42% similar to KNN and Logistic and lower than Decision Tree. The F1 score 52% supports this which is similar to KNN and Logistic as mentioned before and lower than Decision Tree.\n",
    "\n",
    "If we think about the busines objective again to identify potential (predict) term subscribers of 'yes' , it is more reliable (higher precision), it will miss the actual customers because of lower recall. Let's not forget how long it took for the computation. SVM comes with computational heavy costs compared to other models seen earlier in the report comparisons. Overall, compared to all the models the Decision Tree is lower in computation and gets a better balance between precision and recall for the 'yes' class and higher F1-score with a much lower training time.\n",
    "\n",
    "\n",
    "\n"
   ]
  },
  {
   "cell_type": "markdown",
   "metadata": {
    "id": "1ff82d56"
   },
   "source": [
    "## Project Summary and Recommendations for the Business\n",
    "Posted in README file\n",
    "\n",
    "**Business Objective:**\n",
    "\n",
    "The main goal of this project is to predict whether a potential bank client is likely to subscribe to a long-term deposit based on their characteristics and past interactions, and to use this prediction to improve the effectiveness of marketing campaigns. Essentially, we want to find the clients who are most likely to say \"yes\" to the offer before we even contact them, so we can focus our efforts on those most promising leads.\n",
    "\n",
    "**Findings from analysis**\n",
    "\n",
    "We looked at your historical data from previous marketing campaigns. We saw that most people contacted did **not** subscribe to the deposit. This is important because it means a simple prediction that no one will subscribe would be right most of the time (around 88% accurate). This \"baseline\" accuracy is a starting point, but it doesn't help us find the valuable clients who *will* subscribe.\n",
    "\n",
    "We then tested a few different prediction models (like KNN, Logistic Regression, Decision Tree, and SVM) to see which one was best at identifying those who are likely to subscribe. We realized that just looking at overall accuracy wasn't enough because of the large number of people who didn't subscribe. We needed to look at how well the models found the people who *did* subscribe.\n",
    "\n",
    "**Why the Decision Tree Model is Recommended:**\n",
    "\n",
    "Based on our analysis, the **Decision Tree model** stands out as the most promising for your business objective. Here's why, in simple terms:\n",
    "\n",
    "*   **Better at Finding Potential Subscribers:** While all models were good at identifying people who *wouldn't* subscribe, the Decision Tree was significantly better than the others at finding the people who *would* subscribe. Think of it like a better filter for finding the interested customers.\n",
    "*   **Good Balance:** It does a good job of balancing between finding actual subscribers and not incorrectly flagging too many non-subscribers as interested. This means you're more likely to reach out to genuinely interested people and less likely to waste time on those who aren't.\n",
    "*   **Easy to Understand:** Decision Tree models are relatively easy to understand. You can visually see the rules it uses to make predictions (like a flowchart), which can provide valuable insights into the characteristics of clients who are likely to subscribe.\n",
    "*   **Faster to Use:** Compared to some other complex models we tested (like the SVM), the Decision Tree was much faster to train and use, making it more practical for real-world marketing campaigns and less computationally expensive.\n",
    "\n",
    "**Important Considerations:**\n",
    "\n",
    "*   We excluded the 'duration' of the last call from the model used for prediction. While call duration is a strong indicator (longer calls often mean more interest), you don't know how long a call will last *before* you make it. Including it would make the predictions unrealistic for targeting.\n",
    "*   The 'campaign' feature (number of times contacted) showed that more contacts in a campaign made a subscription less likely, which makes sense – people might get annoyed by too many calls.\n",
    "\n",
    "**Next Steps and Recommendations:**\n",
    "\n",
    "1.  **Implement the Decision Tree Model:** Integrate the tuned Decision Tree model into your marketing process.\n",
    "2.  **Target Promising Leads:** Use the model to identify clients who are predicted to subscribe and prioritize contacting them.\n",
    "3.  **Monitor Performance:** Continuously track how well the model's predictions translate into actual subscriptions in your campaigns. Monitor metrics like the conversion rate of clients identified as likely subscribers by the model.\n",
    "4.  **Gather More Data:** Collect data on the outcomes of campaigns where you use this targeted approach. This new data can be used to further refine and improve the model in the future.\n",
    "5.  **Explore Additional Features:** Consider if there are other relevant pieces of information you collect about clients that could be included in the model to potentially improve its predictions.\n",
    "6.  **Consider Different Campaign Strategies:** Based on the insights from the Decision Tree (e.g., which clients are associated with subscription), you might tailor your marketing messages or approach for different client segments.\n",
    "\n",
    "By using this Decision Tree model, you can move beyond a one-size-fits-all approach and make your marketing campaigns more efficient and effective by focusing on the clients who are genuinely most likely to be interested in your long-term deposit offer."
   ]
  }
 ],
 "metadata": {
  "colab": {
   "provenance": []
  },
  "kernelspec": {
   "display_name": "Python 3",
   "language": "python",
   "name": "python3"
  },
  "language_info": {
   "codemirror_mode": {
    "name": "ipython",
    "version": 3
   },
   "file_extension": ".py",
   "mimetype": "text/x-python",
   "name": "python",
   "nbconvert_exporter": "python",
   "pygments_lexer": "ipython3",
   "version": "3.8.8"
  }
 },
 "nbformat": 4,
 "nbformat_minor": 0
}
